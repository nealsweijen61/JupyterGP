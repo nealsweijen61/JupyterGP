{
 "cells": [
  {
   "cell_type": "code",
   "execution_count": 15,
   "metadata": {},
   "outputs": [
    {
     "name": "stdout",
     "output_type": "stream",
     "text": [
      "[GpModel(accuracy=911789, complexity=15,\n",
      "        expression='((((x1+x9)+41.432000)/ ((x10/ (x2+1e-6) )+1e-6) )+(x8+x8))'), GpModel(accuracy=20632800.0, complexity=4, expression='(57.700000/ (x10+1e-6))'), GpModel(accuracy=23785200.0, complexity=1, expression='x0*(x8+x8)'), GpModel(accuracy=5919300.0, complexity=5,\n",
      "        expression='((21.783000*56.278000)*x0)'), GpModel(accuracy=750528, complexity=24,\n",
      "        expression='(((x1+(2.793000*x8))*(57.470000*(32.096000+x2)))+(((36.191000/ '\n",
      "                   '(x6+1e-6) )+(x0-19.821000))*((x4+x2)*4.235000)))'), GpModel(accuracy=3230261, complexity=15,\n",
      "        expression='(0.000000+(1.000000*((ln((x0+x0+1e-6))*x0)/cos(sin(ln(x3+1e-6)))+1e-6)))')]\n"
     ]
    }
   ],
   "source": [
    "import pickle\n",
    "import os\n",
    "import pandas as pd\n",
    "from sklearn.metrics import r2_score, mean_squared_error\n",
    "\n",
    "def load_sklearn_model(filepath):\n",
    "    \"\"\"Loads a sklearn model.\"\"\"\n",
    "    with open(filepath, 'rb') as file:\n",
    "        model = pickle.load(file)\n",
    "    return model\n",
    "\n",
    "folderpath = \"./data/models\"\n",
    "files = os.listdir(folderpath)\n",
    "models = []\n",
    "\n",
    "for file in files:\n",
    "    filepath = os.path.join(folderpath, file)\n",
    "    model = load_sklearn_model(filepath)\n",
    "    model.reInit()\n",
    "    models.append(model)\n",
    "\n",
    "print(models)"
   ]
  },
  {
   "cell_type": "code",
   "execution_count": 32,
   "metadata": {},
   "outputs": [
    {
     "name": "stdout",
     "output_type": "stream",
     "text": [
      "selected row    season  year  month  holiday  week_day  working_day  weather  temperature   \n",
      "0       3     0      7        0         6            0        1     0.686667  \\\n",
      "1       3     0      7        0         4            1        1     0.750000   \n",
      "2       1     0      1        0         6            0        2     0.233333   \n",
      "3       1     0      2        0         2            1        2     0.192174   \n",
      "4       1     1      1        0         4            1        2     0.341667   \n",
      "5       4     0     11        0         3            1        3     0.456667   \n",
      "6       4     0     10        0         4            1        2     0.470000   \n",
      "7       4     1     12        0         1            1        1     0.452500   \n",
      "8       2     1      4        0         6            0        1     0.437500   \n",
      "9       1     0      1        0         5            1        2     0.203478   \n",
      "\n",
      "   feeling_temperature  humidity  wind_speed  \n",
      "0             0.638263  0.585000    0.208342  \n",
      "1             0.686871  0.651250    0.159200  \n",
      "2             0.248112  0.498750    0.157963  \n",
      "3             0.234530  0.829565    0.053213  \n",
      "4             0.356050  0.769583    0.073396  \n",
      "5             0.451988  0.930000    0.136829  \n",
      "6             0.457046  0.812917    0.197763  \n",
      "7             0.455796  0.767500    0.082721  \n",
      "8             0.426129  0.254167    0.274871  \n",
      "9             0.223317  0.793043    0.123300  \n",
      "[3.       0.       7.       0.       6.       0.       1.       0.686667\n",
      " 0.638263 0.585    0.208342]\n",
      "[3.       0.       7.       0.       4.       1.       1.       0.75\n",
      " 0.686871 0.65125  0.1592  ]\n",
      "[1.       0.       1.       0.       6.       0.       2.       0.233333\n",
      " 0.248112 0.49875  0.157963]\n",
      "[1.       0.       2.       0.       2.       1.       2.       0.192174\n",
      " 0.23453  0.829565 0.053213]\n",
      "[1.        1.        1.        0.        4.        1.        2.\n",
      " 0.341667  0.35605   0.769583  0.0733958]\n",
      "[ 4.        0.       11.        0.        3.        1.        3.\n",
      "  0.456667  0.451988  0.93      0.136829]\n",
      "[ 4.        0.       10.        0.        4.        1.        2.\n",
      "  0.47      0.457046  0.812917  0.197763]\n",
      "[ 4.         1.        12.         0.         1.         1.\n",
      "  1.         0.4525     0.455796   0.7675     0.0827208]\n",
      "[2.       1.       4.       0.       6.       0.       1.       0.4375\n",
      " 0.426129 0.254167 0.274871]\n",
      "[1.       0.       1.       0.       5.       1.       2.       0.203478\n",
      " 0.223317 0.793043 0.1233  ]\n",
      "predictions [1412.94177045 1851.68680664  265.94146425 1588.80265504  589.31577483\n",
      " 3406.20975179 2136.94485577 6266.79456941  622.02446604  342.90196871]\n"
     ]
    }
   ],
   "source": [
    "#Predict Data\n",
    "BEGIN_INDEX = 0\n",
    "END_INDEX = 10\n",
    "SHOW_ROWS = True\n",
    "\n",
    "row_slice = slice(BEGIN_INDEX, END_INDEX)\n",
    "df = pd.read_csv('bikes_test.csv')\n",
    "selected_row = df.iloc[row_slice, 1:12]\n",
    "if SHOW_ROWS:\n",
    "    print(\"selected row\", selected_row)\n",
    "pred = models[0].predict(selected_row)\n",
    "\n",
    "print(\"predictions\", pred)"
   ]
  },
  {
   "cell_type": "code",
   "execution_count": 17,
   "metadata": {},
   "outputs": [
    {
     "name": "stdout",
     "output_type": "stream",
     "text": [
      "1) x8 + x8 + (x1 + x9 + 41.432)/(x10/(x2 + 1.0e-6) + 1.0e-6)\n",
      "2) 57.7/(x10 + 1.0e-6)\n",
      "3) x0*(x8 + x8)\n",
      "4) 21.783*56.278*x0\n",
      "5) (x1 + 2.793*x8)*57.47*(x2 + 32.096) + (x0 - 1*19.821 + 36.191/(x6 + 1.0e-6))*(x2 + x4)*4.235\n",
      "6) 1.0*(x0*log(x0 + x0 + 1.0e-6)/cos(sin(log(x3 + 1.0e-6))) + 1.0e-6) + 0.0\n"
     ]
    }
   ],
   "source": [
    "#Print Models\n",
    "for i, model in enumerate(models):\n",
    "    print(f\"{i+1}) {str(model.expr)}\")"
   ]
  },
  {
   "cell_type": "code",
   "execution_count": 29,
   "metadata": {},
   "outputs": [
    {
     "name": "stdout",
     "output_type": "stream",
     "text": [
      "[3.       0.       7.       0.       6.       0.       1.       0.686667\n",
      " 0.638263 0.585    0.208342]\n",
      "[3.       0.       7.       0.       4.       1.       1.       0.75\n",
      " 0.686871 0.65125  0.1592  ]\n",
      "[1.       0.       1.       0.       6.       0.       2.       0.233333\n",
      " 0.248112 0.49875  0.157963]\n",
      "[1.       0.       2.       0.       2.       1.       2.       0.192174\n",
      " 0.23453  0.829565 0.053213]\n",
      "[1.        1.        1.        0.        4.        1.        2.\n",
      " 0.341667  0.35605   0.769583  0.0733958]\n",
      "[ 4.        0.       11.        0.        3.        1.        3.\n",
      "  0.456667  0.451988  0.93      0.136829]\n",
      "[ 4.        0.       10.        0.        4.        1.        2.\n",
      "  0.47      0.457046  0.812917  0.197763]\n",
      "[ 4.         1.        12.         0.         1.         1.\n",
      "  1.         0.4525     0.455796   0.7675     0.0827208]\n",
      "[2.       1.       4.       0.       6.       0.       1.       0.4375\n",
      " 0.426129 0.254167 0.274871]\n",
      "[1.       0.       1.       0.       5.       1.       2.       0.203478\n",
      " 0.223317 0.793043 0.1233  ]\n",
      "      y\n",
      "0  5923\n",
      "1  4592\n",
      "2  1248\n",
      "3  1360\n",
      "4  4075\n",
      "5  1817\n",
      "6  2659\n",
      "7  6234\n",
      "8  6857\n",
      "9  1167\n",
      "Score: 8336998.793865748\n"
     ]
    }
   ],
   "source": [
    "#Accuracy Score\n",
    "BEGIN_INDEX = 0\n",
    "END_INDEX = 10\n",
    "MODEL = 0\n",
    "\n",
    "row_slice = slice(BEGIN_INDEX, END_INDEX)\n",
    "df = pd.read_csv('bikes_test.csv')\n",
    "selected_row = df.iloc[row_slice, 1:12]\n",
    "y_pred = models[MODEL].predict(selected_row)\n",
    "y_true = df.iloc[row_slice, 12:13]\n",
    "print(y_true)\n",
    "score = mean_squared_error(y_true, y_pred)\n",
    "print(\"Score:\", score)"
   ]
  }
 ],
 "metadata": {
  "kernelspec": {
   "display_name": "Python 3",
   "language": "python",
   "name": "python3"
  },
  "language_info": {
   "codemirror_mode": {
    "name": "ipython",
    "version": 3
   },
   "file_extension": ".py",
   "mimetype": "text/x-python",
   "name": "python",
   "nbconvert_exporter": "python",
   "pygments_lexer": "ipython3",
   "version": "3.10.6"
  }
 },
 "nbformat": 4,
 "nbformat_minor": 2
}
